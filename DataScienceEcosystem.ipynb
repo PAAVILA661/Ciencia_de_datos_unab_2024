{
 "cells": [
  {
   "cell_type": "markdown",
   "metadata": {},
   "source": [
    "<center>\n",
    "    <img src=\"https://cf-courses-data.s3.us.cloud-object-storage.appdomain.cloud/IBMDeveloperSkillsNetwork-DS0105EN-SkillsNetwork/labs/Module2/images/SN_web_lightmode.png\" width=\"300\" alt=\"cognitiveclass.ai logo\">\n",
    "</center>\n"
   ]
  },
  {
   "cell_type": "markdown",
   "metadata": {},
   "source": [
    "#### Add your code below following the instructions given in the course\n"
   ]
  },
  {
   "cell_type": "markdown",
   "metadata": {},
   "source": [
    "**Ejercicio 2: Crear una celda markdown con el título del notebook**\n",
    "\n",
    "\n",
    "<h1>Herramientas y Ecosistema de Ciencia de Datos</h1>"
   ]
  },
  {
   "cell_type": "markdown",
   "metadata": {},
   "source": [
    "**Ejercicio 3 - Crear una celda markdown para una introducción**\n",
    "\n",
    "\n",
    "En este notebook, se presentan de manera concisa las **herramientas** y el **ecosistema** que constituyen la **Ciencia de Datos**, proporcionando una visión general de los recursos fundamentales que los científicos de datos utilizan para analizar y transformar información.\n",
    "\n",
    "---"
   ]
  },
  {
   "cell_type": "markdown",
   "metadata": {},
   "source": [
    "**Ejercicio 10 - Insertar una celda markdown para listar Objetivos**\n",
    "\n",
    "**Objetivos:**\n",
    "\n",
    "- Listar los lenguajes populares para **Ciencia de Datos**.\n",
    "- Identificar las bibliotecas comunes utilizadas en el análisis de datos.\n",
    "- Reconocer herramientas de desarrollo de código abierto en el ecosistema de la **Ciencia de Datos**.\n",
    "- Evaluar expresiones aritméticas básicas en Python.\n",
    "- Realizar conversiones de unidades de tiempo en el contexto de análisis de datos.\n",
    "\n",
    "---"
   ]
  },
  {
   "cell_type": "markdown",
   "metadata": {},
   "source": [
    "**Ejercicio 4 - Crear una celda markdown para listar lenguajes de ciencia de datos**\n",
    "\n",
    "Algunos de los lenguajes populares que utilizan los **Científicos de Datos** son:\n",
    "\n",
    "1. **Python**\n",
    "2. **R**\n",
    "3. **SQL**\n",
    "4. **Java**\n",
    "5. **SAS**\n",
    "6. **Scala**\n",
    "7. **Julia**\n",
    "8. **MATLAB**\n",
    "9. **JavaScript**\n",
    "10. **Go**\n",
    "11. **C++**\n",
    "12. **PHP**\n",
    "\n",
    "---"
   ]
  },
  {
   "cell_type": "markdown",
   "metadata": {},
   "source": [
    "**Ejercicio 5 - Crear una celda markdown para listar bibliotecas de ciencia de datos**\n",
    "\n",
    "Algunas de las bibliotecas comúnmente usadas por los **Científicos de Datos** incluyen:\n",
    "\n",
    "1. **Pandas**\n",
    "2. **NumPy**\n",
    "3. **Scikit-learn**\n",
    "4. **Matplotlib**\n",
    "5. **TensorFlow**\n",
    "\n",
    "---"
   ]
  },
  {
   "cell_type": "markdown",
   "metadata": {},
   "source": [
    "**Ejercicio 6 - Crear una celda markdown con una tabla de herramientas de Ciencia de Datos**\n",
    "\n",
    "| **Herramientas de Ciencia de Datos** |\n",
    "|---------------------------------------|\n",
    "| **Jupyter Notebook**                  |\n",
    "| **RStudio**                           |\n",
    "| **Apache Zeppelin**                   |\n",
    "\n",
    "---"
   ]
  },
  {
   "cell_type": "markdown",
   "metadata": {},
   "source": [
    "**Ejercicio 7 - Crear una celda markdown introduciendo ejemplos de expresiones aritméticas**\n",
    "\n",
    "\n",
    "A continuación, se presentan algunos ejemplos de evaluación de expresiones aritméticas en Python.\n",
    "\n",
    "1. **Suma de dos números**:\n",
    "   ```python\n",
    "   resultado = 5 + 3\n",
    "   print(resultado)  # Salida: 8\n",
    "   ```\n",
    "\n",
    "2. **Resta de dos números**:\n",
    "   ```python\n",
    "   resultado = 10 - 4\n",
    "   print(resultado)  # Salida: 6\n",
    "   ```\n",
    "\n",
    "3. **Multiplicación de dos números**:\n",
    "   ```python\n",
    "   resultado = 7 * 6\n",
    "   print(resultado)  # Salida: 42\n",
    "   ```\n",
    "\n",
    "4. **División de dos números**:\n",
    "   ```python\n",
    "   resultado = 20 / 4\n",
    "   print(resultado)  # Salida: 5.0\n",
    "   ```\n",
    "\n",
    "5. **Expresión combinada**:\n",
    "   ```python\n",
    "   resultado = (3 * 4) + (10 / 2)\n",
    "   print(resultado)  # Salida: 14.0\n",
    "   ```\n",
    "\n",
    "6. **Uso de potencias**:\n",
    "   ```python\n",
    "   resultado = 2 ** 3\n",
    "   print(resultado)  # Salida: 8\n",
    "   ```\n",
    "\n",
    "7. **Módulo (resto de una división)**:\n",
    "   ```python\n",
    "   resultado = 10 % 3\n",
    "   print(resultado)  # Salida: 1\n",
    "   ```\n",
    "\n",
    "8. **Promedio de una lista de números**:\n",
    "   ```python\n",
    "   numeros = [10, 20, 30]\n",
    "   promedio = sum(numeros) / len(numeros)\n",
    "   print(promedio)  # Salida: 20.0\n",
    "   ```\n",
    "\n",
    "9. **Calculo de la suma de una serie**:\n",
    "   ```python\n",
    "   n = 5\n",
    "   suma = sum(range(n + 1))  # Suma de 0 a 5\n",
    "   print(suma)  # Salida: 15\n",
    "   ```\n",
    "\n",
    "\n",
    "---"
   ]
  },
  {
   "cell_type": "code",
   "execution_count": 3,
   "metadata": {},
   "outputs": [
    {
     "name": "stdout",
     "output_type": "stream",
     "text": [
      "17\n"
     ]
    }
   ],
   "source": [
    "# Ejercicio 8 - Crear una celda de código para multiplicar y sumar números\n",
    "resultado = (3 * 4 ) + 5\n",
    "print(resultado)"
   ]
  },
  {
   "cell_type": "code",
   "execution_count": 4,
   "metadata": {},
   "outputs": [
    {
     "name": "stdout",
     "output_type": "stream",
     "text": [
      "3.3333333333333335\n"
     ]
    }
   ],
   "source": [
    "# Ejercicio 9 - Crear una celda de código para convertir minutos a horas\n",
    "# Esto convertirá 200 minutos a horas dividiendo por 60\n",
    "minutos = 200\n",
    "horas = minutos / 60\n",
    "print(horas) # Salida esperada: 3.3333"
   ]
  },
  {
   "cell_type": "markdown",
   "metadata": {},
   "source": [
    "<h2>Autor</h2>\n",
    "Pablo Avila Segura"
   ]
  },
  {
   "cell_type": "code",
   "execution_count": null,
   "metadata": {},
   "outputs": [],
   "source": []
  }
 ],
 "metadata": {
  "kernelspec": {
   "display_name": "Python 3 (ipykernel)",
   "language": "python",
   "name": "python3"
  },
  "language_info": {
   "codemirror_mode": {
    "name": "ipython",
    "version": 3
   },
   "file_extension": ".py",
   "mimetype": "text/x-python",
   "name": "python",
   "nbconvert_exporter": "python",
   "pygments_lexer": "ipython3",
   "version": "3.11.9"
  }
 },
 "nbformat": 4,
 "nbformat_minor": 4
}
