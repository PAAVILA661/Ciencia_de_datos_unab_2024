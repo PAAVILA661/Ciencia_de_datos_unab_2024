{
 "cells": [
  {
   "cell_type": "markdown",
   "metadata": {},
   "source": [
    "<center>\n",
    "    <img src=\"https://cf-courses-data.s3.us.cloud-object-storage.appdomain.cloud/IBMDeveloperSkillsNetwork-DS0105EN-SkillsNetwork/labs/Module2/images/SN_web_lightmode.png\" width=\"300\" alt=\"cognitiveclass.ai logo\">\n",
    "</center>\n"
   ]
  },
  {
   "cell_type": "markdown",
   "metadata": {},
   "source": [
    "#### Add your code below following the instructions given in the course\n"
   ]
  },
  {
   "cell_type": "markdown",
   "metadata": {},
   "source": [
    "**Ejercicio 2: Crear una celda markdown con el título del notebook**\n",
    "\n",
    "\n",
    "<h1>Herramientas y Ecosistema de Ciencia de Datos</h1>"
   ]
  },
  {
   "cell_type": "markdown",
   "metadata": {},
   "source": [
    "**Ejercicio 3 - Crear una celda markdown para una introducción**\n",
    "\n",
    "\n",
    "En este notebook, se presentan de manera concisa las **herramientas** y el **ecosistema** que constituyen la **Ciencia de Datos**, proporcionando una visión general de los recursos fundamentales que los científicos de datos utilizan para analizar y transformar información.\n",
    "\n",
    "---"
   ]
  },
  {
   "cell_type": "markdown",
   "metadata": {},
   "source": [
    "**Ejercicio 10 - Insertar una celda markdown para listar Objetivos**\n",
    "\n",
    "**Objetivos:**\n",
    "\n",
    "- Listar los lenguajes populares para **Ciencia de Datos**.\n",
    "- Identificar las bibliotecas comunes utilizadas en el análisis de datos.\n",
    "- Reconocer herramientas de desarrollo de código abierto en el ecosistema de la **Ciencia de Datos**.\n",
    "- Evaluar expresiones aritméticas básicas en Python.\n",
    "- Realizar conversiones de unidades de tiempo en el contexto de análisis de datos.\n",
    "\n",
    "---"
   ]
  },
  {
   "cell_type": "markdown",
   "metadata": {},
   "source": [
    "**Ejercicio 4 - Crear una celda markdown para listar lenguajes de ciencia de datos**\n",
    "\n",
    "Algunos de los lenguajes populares que utilizan los **Científicos de Datos** son:\n",
    "\n",
    "1. **Python**: Un lenguaje versátil y fácil de aprender, ideal para el análisis de datos y el desarrollo de modelos de **Machine Learning**.\n",
    "2. **R**: Especialmente diseñado para el análisis estadístico, es ampliamente utilizado en la comunidad académica y en proyectos de investigación.\n",
    "3. **SQL**: Fundamental para la manipulación y consulta de bases de datos, permite a los científicos de datos extraer información valiosa de grandes conjuntos de datos.\n",
    "4. **Java**: Aunque menos común que Python y R, es utilizado en aplicaciones a gran escala y en el desarrollo de sistemas de **Big Data**.\n",
    "5. **Julia**: Un lenguaje emergente que combina la facilidad de uso con un rendimiento excepcional, especialmente en cálculos numéricos y científicos.\n",
    "\n",
    "\n",
    "---"
   ]
  },
  {
   "cell_type": "markdown",
   "metadata": {},
   "source": [
    "**Ejercicio 5 - Crear una celda markdown para listar bibliotecas de ciencia de datos**\n",
    "\n",
    "Algunas de las bibliotecas comúnmente usadas por los **Científicos de Datos** incluyen:\n",
    "\n",
    "1. **Pandas**: Fundamental para la manipulación y análisis de datos, proporciona estructuras de datos flexibles y herramientas eficientes para trabajar con grandes volúmenes de información.\n",
    "2. **NumPy**: Esencial para el cálculo numérico, ofrece soporte para arreglos multidimensionales y una amplia colección de funciones matemáticas.\n",
    "3. **Matplotlib**: Utilizada para la creación de visualizaciones gráficas, permite generar una variedad de gráficos y diagramas que ayudan a interpretar los datos.\n",
    "4. **Scikit-learn**: Una biblioteca clave para el **Machine Learning**, proporciona herramientas para la construcción y evaluación de modelos de aprendizaje automático.\n",
    "5. **TensorFlow**: Amplia biblioteca utilizada para construir y entrenar modelos de **Deep Learning**, ofreciendo flexibilidad y rendimiento en el desarrollo de redes neuronales.\n",
    "\n",
    "---"
   ]
  },
  {
   "cell_type": "markdown",
   "metadata": {},
   "source": [
    "**Ejercicio 6 - Crear una celda markdown con una tabla de herramientas de Ciencia de Datos**\n",
    "\n",
    "| **Herramientas de Ciencia de Datos** |\n",
    "|---------------------------------------|\n",
    "| **Jupyter Notebook**                  |\n",
    "| **RStudio**                           |\n",
    "| **Apache Zeppelin**                   |\n",
    "\n",
    "Esta tabla resalta algunas de las **herramientas de desarrollo de código abierto** más utilizadas en la Ciencia de Datos. Estas herramientas permiten a los científicos de datos realizar análisis, visualizar datos y colaborar en proyectos de manera efectiva, facilitando el flujo de trabajo y la integración de diversas técnicas de análisis.\n",
    "\n",
    "---"
   ]
  },
  {
   "cell_type": "markdown",
   "metadata": {},
   "source": [
    "**Ejercicio 7 - Crear una celda markdown introduciendo ejemplos de expresiones aritméticas**\n",
    "\n",
    "\n",
    "A continuación, se presentan algunos ejemplos de evaluación de expresiones aritméticas en Python.\n",
    "\n",
    "1. **Suma de dos números**:\n",
    "   ```python\n",
    "   resultado = 5 + 3\n",
    "   print(resultado)  # Salida: 8\n",
    "   ```\n",
    "\n",
    "2. **Resta de dos números**:\n",
    "   ```python\n",
    "   resultado = 10 - 4\n",
    "   print(resultado)  # Salida: 6\n",
    "   ```\n",
    "\n",
    "3. **Multiplicación de dos números**:\n",
    "   ```python\n",
    "   resultado = 7 * 6\n",
    "   print(resultado)  # Salida: 42\n",
    "   ```\n",
    "\n",
    "4. **División de dos números**:\n",
    "   ```python\n",
    "   resultado = 20 / 4\n",
    "   print(resultado)  # Salida: 5.0\n",
    "   ```\n",
    "\n",
    "5. **Expresión combinada**:\n",
    "   ```python\n",
    "   resultado = (3 * 4) + (10 / 2)\n",
    "   print(resultado)  # Salida: 14.0\n",
    "   ```\n",
    "\n",
    "6. **Uso de potencias**:\n",
    "   ```python\n",
    "   resultado = 2 ** 3\n",
    "   print(resultado)  # Salida: 8\n",
    "   ```\n",
    "\n",
    "7. **Módulo (resto de una división)**:\n",
    "   ```python\n",
    "   resultado = 10 % 3\n",
    "   print(resultado)  # Salida: 1\n",
    "   ```\n",
    "\n",
    "8. **Promedio de una lista de números**:\n",
    "   ```python\n",
    "   numeros = [10, 20, 30]\n",
    "   promedio = sum(numeros) / len(numeros)\n",
    "   print(promedio)  # Salida: 20.0\n",
    "   ```\n",
    "\n",
    "9. **Calculo de la suma de una serie**:\n",
    "   ```python\n",
    "   n = 5\n",
    "   suma = sum(range(n + 1))  # Suma de 0 a 5\n",
    "   print(suma)  # Salida: 15\n",
    "   ```\n",
    "\n",
    "Estos ejemplos ilustran cómo se pueden realizar diversas operaciones aritméticas en Python, lo que es esencial para el análisis de datos y la modelización en **Ciencia de Datos**. El uso de estas expresiones permite a los científicos de datos manipular y analizar conjuntos de datos de manera efectiva, facilitando la obtención de insights valiosos.\n",
    "\n",
    "---"
   ]
  },
  {
   "cell_type": "code",
   "execution_count": 3,
   "metadata": {},
   "outputs": [
    {
     "name": "stdout",
     "output_type": "stream",
     "text": [
      "17\n"
     ]
    }
   ],
   "source": [
    "# Ejercicio 8 - Crear una celda de código para multiplicar y sumar números\n",
    "resultado = (3 * 4 ) + 5\n",
    "print(resultado)"
   ]
  },
  {
   "cell_type": "code",
   "execution_count": 4,
   "metadata": {},
   "outputs": [
    {
     "name": "stdout",
     "output_type": "stream",
     "text": [
      "3.3333333333333335\n"
     ]
    }
   ],
   "source": [
    "# Ejercicio 9 - Crear una celda de código para convertir minutos a horas\n",
    "# Esto convertirá 200 minutos a horas dividiendo por 60\n",
    "minutos = 200\n",
    "horas = minutos / 60\n",
    "print(horas) # Salida esperada: 3.3333"
   ]
  },
  {
   "cell_type": "markdown",
   "metadata": {},
   "source": [
    "<h2>Autor</h2>\n",
    "Pablo Avila Segura"
   ]
  },
  {
   "cell_type": "code",
   "execution_count": null,
   "metadata": {},
   "outputs": [],
   "source": []
  }
 ],
 "metadata": {
  "kernelspec": {
   "display_name": "Python 3",
   "language": "python",
   "name": "python3"
  },
  "language_info": {
   "codemirror_mode": {
    "name": "ipython",
    "version": 3
   },
   "file_extension": ".py",
   "mimetype": "text/x-python",
   "name": "python",
   "nbconvert_exporter": "python",
   "pygments_lexer": "ipython3",
   "version": "3.11.7"
  }
 },
 "nbformat": 4,
 "nbformat_minor": 4
}
